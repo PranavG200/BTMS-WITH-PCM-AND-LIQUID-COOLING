{
  "nbformat": 4,
  "nbformat_minor": 0,
  "metadata": {
    "colab": {
      "name": "TRANSIENT_1D.ipynb",
      "provenance": [],
      "authorship_tag": "ABX9TyN1yHC47G1GJ3bxS+9F3Hrr",
      "include_colab_link": true
    },
    "kernelspec": {
      "name": "python3",
      "display_name": "Python 3"
    }
  },
  "cells": [
    {
      "cell_type": "markdown",
      "metadata": {
        "id": "view-in-github",
        "colab_type": "text"
      },
      "source": [
        "<a href=\"https://colab.research.google.com/github/PranavG200/BTMS-WITH-PCM-AND-LIQUID-COOLING/blob/master/TRANSIENT_1D.ipynb\" target=\"_parent\"><img src=\"https://colab.research.google.com/assets/colab-badge.svg\" alt=\"Open In Colab\"/></a>"
      ]
    },
    {
      "cell_type": "code",
      "metadata": {
        "id": "HRyHfXFla3XW",
        "colab_type": "code",
        "colab": {
          "base_uri": "https://localhost:8080/",
          "height": 231
        },
        "outputId": "149733c2-bd02-43f4-b286-243fecfceb9b"
      },
      "source": [
        "import numpy as np\n",
        "import matplotlib.pyplot as plt\n",
        "import math\n",
        "\n",
        "''' Constants '''\n",
        "\n",
        "g = 10      # m/s2. Acceleration due to gravity\n",
        "\n",
        "# Battery related constants\n",
        "cell_radius =  0.008        # m. Radius of cell\n",
        "cell_length = 0.065      # m\n",
        "cell_volume = math.pi * cell_radius**2 * cell_length       # m3. Volume of battery\n",
        "k_cell = 3      # W/m/K. Thermal conductivity\n",
        "resistance_cell = 30*10**-3    # ohm. Internal resistance of battery\n",
        "voltage = 3.6      # V. Nominal voltage of battery\n",
        "entropy_coeff = 0.4*10**-3    # V/K. Entropy coefficient due to the chemical reaction in the cell\n",
        "current = voltage/resistance_cell          # Amp. Current of charge or discharge          \n",
        "\n",
        "# CPCM related constants\n",
        "Ti_CPCM = 40   # C. Initial temperaute of CPCM\n",
        "viscosity_CPCM = 10**5    # kg/m/s\n",
        "CPCM_thickness = 0.004 #0.002500762681055087      # m. Thickness pf CPCM\n",
        "k_CPCM = 5.74\n",
        "\n",
        "# Water related constants\n",
        "Ti_water = 26.42     # C. Initial temperature of water\n",
        "k_water = 0.63       # W/m/K at 40C. Thermal conductivity\n",
        "density_water = 991.2     # kg/m3\n",
        "Cp_water = 4174        # J/kg/K\n",
        "viscosity_water = 6.533 * (10**-4)      # kg/m/s\n",
        "FlowVelocity = 0.04 ###0.009        # m/s. This is the maximum liquid flow velocity\n",
        "                           # Range for flow velocity = 0.02-0.14 m/s\n",
        "alpha = k_water/density_water/Cp_water\n",
        "Re_water = 2063.45          # This is calculated by density_water*FlowVelocity*(Diameter of inlet)/viscosity_water   \n",
        "                            # Since Re is smaller than 2300, laminar flow is selected for simulation \n",
        "\n",
        "Dia_inlet =  Re_water*viscosity_water/density_water/FlowVelocity    \n",
        "\n",
        "Nu = 2.9 ##2.9   # Nusselt number for FlowVelocity 0.14 = hD/k\n",
        "h_water = Nu*k_water/Dia_inlet            # W/m2/K\n",
        "\n",
        "# Setup related constants\n",
        "T_wall = 25  \n",
        "\n",
        "pipe_length = cell_length\n",
        "pipe_thickness = 0.006 #Dia_inlet/2.0        # m. Thickness of coolant pipe\n",
        "\n",
        "r_inner = cell_radius\n",
        "r_middle = r_inner + CPCM_thickness \n",
        "r_outer = r_middle + pipe_thickness \n",
        "\n",
        "P_atm = 1\n",
        "\n",
        "nodes_cell = 7\n",
        "nodes_CPCM = 7\n",
        "nodes_water = 7\n",
        "nodes_r1 = nodes_cell + nodes_CPCM \n",
        "nodes_r = nodes_cell + nodes_CPCM + nodes_water     # Total nodes in r direction\n",
        "nodes_z = 12    # Total nodes in z direction\n",
        "\n",
        "''' Initialization of variables '''\n",
        "\n",
        "r_cell = np.linspace(0, cell_radius, nodes_cell)\n",
        "dr_cell = cell_radius/(nodes_cell-1)\n",
        "delta_r_cell = np.ones(nodes_cell)*dr_cell\n",
        "delta_rw_cell = np.copy(delta_r_cell)\n",
        "delta_rw_cell[0] = 0 \n",
        "delta_re_cell = np.copy(delta_r_cell)\n",
        "delta_re_cell[nodes_cell-1] = 0 \n",
        "delta_r_cell[0] = dr_cell/2\n",
        "delta_r_cell[nodes_cell-1] = dr_cell/2\n",
        "\n",
        "r_CPCM = np.linspace(r_inner, r_middle, nodes_CPCM)\n",
        "dr_CPCM = CPCM_thickness/(nodes_CPCM-1)\n",
        "delta_r_CPCM = np.ones(nodes_CPCM)*dr_CPCM\n",
        "delta_rw_CPCM = np.copy(delta_r_CPCM)\n",
        "delta_rw_CPCM[0] = 0 \n",
        "delta_re_CPCM = np.copy(delta_r_CPCM)\n",
        "delta_re_CPCM[nodes_CPCM-1] = 0 \n",
        "delta_r_CPCM[0] = dr_CPCM/2\n",
        "delta_r_CPCM[nodes_CPCM-1] = dr_CPCM/2\n",
        "\n",
        "r_water = np.linspace(r_middle, r_outer, nodes_water)\n",
        "dr_water = pipe_thickness/(nodes_water-1)\n",
        "delta_r_water = np.ones(nodes_water)*dr_water\n",
        "delta_rw_water = np.copy(delta_r_water)\n",
        "delta_rw_water[0] = 0 \n",
        "delta_re_water = np.copy(delta_r_water)\n",
        "delta_re_water[nodes_water-1] = 0 \n",
        "delta_r_water[0] = dr_water/2\n",
        "delta_r_water[nodes_water-1] = dr_water/2\n",
        "\n",
        "r_model = np.linspace(0, r_outer, nodes_r)\n",
        "dr = r_outer/(nodes_r-1)\n",
        "delta_r = np.ones(nodes_r)*dr\n",
        "delta_rw = np.copy(delta_r)\n",
        "delta_rw[0] = 0 \n",
        "delta_re = np.copy(delta_r)\n",
        "delta_re[nodes_r-1] = 0 \n",
        "delta_r[0] = dr/2\n",
        "delta_r[nodes_r-1] = dr/2\n",
        "\n",
        "xp = [] \n",
        "\n",
        "for i in range(nodes_r):\n",
        "  xp.append(i*dr)\n",
        "\n",
        "radius = np.zeros((nodes_r))\n",
        "for ii in range(nodes_r):\n",
        "  if ii<7:\n",
        "    radius[ii] = r_cell[ii]\n",
        "  elif ii >6 and ii <14:\n",
        "    radius[ii] = r_CPCM[ii-7]\n",
        "  else:\n",
        "    radius[ii] = r_water[ii-14]   \n",
        "\n",
        "del_r = np.zeros((nodes_r))\n",
        "del_r[0:nodes_r] = 0.024/20\n",
        "del_r\n",
        "r_model = radius\n",
        "\n",
        "# 1D\n",
        "Temp = np.zeros((nodes_r))\n",
        "CAW = np.zeros((nodes_r))\n",
        "CAE = np.zeros((nodes_r))\n",
        "S = np.zeros((nodes_r,4))\n",
        "CAP = np.zeros((nodes_r))\n",
        "\n",
        "CAW[0] = 0\n",
        "CAW[1] = 0\n",
        "CAE[0] = 0\n",
        "CAE[1] = k_cell*r_model[2]/r_model[1]/del_r[1]**2\n",
        "S[0:7,1] = 7000\n",
        "S[0:7,0] = 5000\n",
        "S[0:7,2] = 10000\n",
        "S[0:7,3] = 100000\n",
        "\n",
        "for i in range(2,nodes_cell-1):\n",
        "  CAW[i] = k_cell/del_r[i]**2                \n",
        "  CAE[i] = k_cell*r_model[i+1] / r_model[i] / del_r[i]**2 \n",
        "\n",
        "CAW[nodes_cell-1] = k_cell/del_r[nodes_cell-1]**2  \n",
        "CAE[nodes_cell-1] = k_CPCM* r_model[i+1] / r_model[i] / del_r[i]**2 \n",
        "\n",
        "for i in range(nodes_cell, nodes_r1-1):\n",
        "  CAW[i] = r_model[i]\n",
        "  CAE[i] = r_model[i+1]\n",
        "\n",
        "CAW[nodes_r1-1] = (r_model[nodes_r1-1])/ del_r[nodes_r1-1] \n",
        "CAE[nodes_r1-1] = r_model[nodes_r1]*h_water/k_CPCM\n",
        "\n",
        "for i in range(nodes_r1,nodes_r-1):\n",
        "  CAW[i] = 1/del_r[i]**2                \n",
        "  CAE[i] = r_model[i+1] / r_model[i] / del_r[i]**2 \n",
        "\n",
        "CAW[nodes_r-1]=1/ del_r[nodes_r-1]**2\n",
        "\n",
        "del_T =1\n",
        "cp= 750\n",
        "CAPO = np.zeros((nodes_r))\n",
        "for i in range(1,nodes_r-1):\n",
        "  CAPO[i] = density_water*cp/ del_T \n",
        "\n",
        "CAP = CAW + CAE + CAPO\n",
        "xlheat_flux = 0\n",
        "T_b = 27\n",
        "\n",
        "TEMP1 = np.zeros((nodes_r,2000))\n",
        "T_Initial=np.zeros((nodes_r,2000))   #c\n",
        "T_Initial[nodes_r-1,:]= T_wall   \n",
        "T_Initial[:,0]=27\n",
        "r_ini = np.zeros((nodes_r))\n",
        "T_b = 26\n",
        "jj = 0\n",
        "rmaxt =1\n",
        "S1 = np.zeros((nodes_r))\n",
        "while rmaxt > 7e-09:\n",
        "  for ii in range(nodes_r):\n",
        "    S1[ii]= CAPO[ii]*T_Initial[ii,jj]+ S[ii,3]\n",
        "  jj=jj+1\n",
        "  rmax_ini = 1\n",
        "  for kkw in range(9990):\n",
        "  #while rmax_ini >0.1:\n",
        "\n",
        "  ## for battery core ##\n",
        "    T_Initial[1,jj]= (CAE[1]/CAP[1])*T_Initial[2,jj] + S1[ii]/CAP[1] \n",
        "    T_Initial[0,jj] = T_Initial[1,jj]\n",
        "    for ii in range(2,nodes_cell-1):\n",
        "       T_Initial[ii,jj]=(CAW[ii]/CAP[ii])*T_Initial[ii-1,jj] + (CAE[ii]/CAP[ii])*T_Initial[ii+1,jj] + S1[ii]/CAP[ii]\n",
        "\n",
        "   ## battery pcm interface ##\n",
        "    T_Initial[nodes_cell-1,jj]=(CAW[nodes_cell-1]/CAP[nodes_cell-1])*T_Initial[nodes_cell-2,jj] + (CAE[nodes_cell-1]/CAP[nodes_cell-1])*T_Initial[nodes_cell,jj] + S1[nodes_cell-1]/CAP[nodes_cell-1]\n",
        "\n",
        "   ## pcm ##\n",
        "    for ii in range(nodes_cell,nodes_cell+ nodes_CPCM-1):\n",
        "       T_Initial[ii,jj]=(CAW[ii]/CAP[ii])*T_Initial[ii-1,jj] + (CAE[ii]/CAP[ii])*T_Initial[ii+1,jj] + S1[ii]/CAP[ii]\n",
        "  \n",
        "  ## pcm liquid interface ##\n",
        "    T_Initial[nodes_cell+ nodes_CPCM-1,jj]=(CAW[nodes_cell+ nodes_CPCM-1]/CAP[nodes_cell+ nodes_CPCM-1])*T_Initial[nodes_cell-2,jj] + (CAE[nodes_cell+ nodes_CPCM-1]/CAP[nodes_cell+ nodes_CPCM-1])*T_b + S1[nodes_r1-1]/CAP[nodes_r1-1] #c\n",
        "\n",
        "  ## liquid ##\n",
        "    for ii in range(nodes_r1,nodes_r -1):            #c\n",
        "      T_Initial[ii,jj]=(CAW[ii]/CAP[ii])*T_Initial[ii-1,jj] + (CAE[ii]/CAP[ii])*T_Initial[ii+1,jj]  + S1[ii]/CAP[ii]   #c\n",
        "\n",
        "    r_ini[1] = abs(CAE[1]*T_Initial[2,jj] + S1[1]- CAP[1]*T_Initial[1,jj])\n",
        "    for ii in range(2,nodes_cell-1):\n",
        "      r_ini[ii] = abs(CAW[ii]*T_Initial[ii-1,jj] + CAE[ii]*T_Initial[ii+1,jj] + S1[ii]- CAP[ii]*T_Initial[ii,jj]) \n",
        "  \n",
        "    r_ini[nodes_cell-1]= abs(CAW[nodes_cell-1]*T_Initial[nodes_cell-2,jj] + CAE[nodes_cell-1]*T_Initial[nodes_cell,jj] + S1[nodes_cell-1]- CAP[nodes_cell-1]*T_Initial[nodes_cell-1,jj])\n",
        "\n",
        "    for ii in range(nodes_cell,nodes_cell+ nodes_CPCM-1):\n",
        "      r_ini[ii] = abs(CAW[ii]*T_Initial[ii-1,jj] + CAE[ii]*T_Initial[ii+1,jj]+ S1[ii] - CAP[ii]*T_Initial[ii,jj])\n",
        "\n",
        "    r_ini[nodes_cell+ nodes_CPCM-1]= abs(CAW[nodes_cell+ nodes_CPCM-1]*T_Initial[nodes_cell+ nodes_CPCM-2,jj]+ S1[nodes_r1-1] + CAE[nodes_cell+ nodes_CPCM-1]*T_Initial[nodes_r1,jj] - CAP[nodes_cell+ nodes_CPCM-1]*T_Initial[nodes_cell+ nodes_CPCM-1,jj])\n",
        "\n",
        "    for ii in range(nodes_r1,nodes_r-1):          #c\n",
        "      r_ini[ii] = abs(CAW[ii]*T_Initial[ii-1,jj] + CAE[ii]*T_Initial[ii+1,jj] + S1[ii]- CAP[ii]*T_Initial[ii,jj])   \n",
        "    \n",
        "    #r_ini[nodes_r-1] = abs(CAW[nodes_r-1]*T_Initial[nodes_r-2] - CAP[nodes_r-1]*T_Initial[nodes_r-1])\n",
        "    rmax_ini = max(r_ini) \n",
        "  rt=abs(np.divide((T_Initial[:,jj]-T_Initial[:,jj-1]),T_Initial[:,jj-1]))\n",
        "  rmaxt = max(rt)\n"
      ],
      "execution_count": null,
      "outputs": [
        {
          "output_type": "error",
          "ename": "KeyboardInterrupt",
          "evalue": "ignored",
          "traceback": [
            "\u001b[0;31m---------------------------------------------------------------------------\u001b[0m",
            "\u001b[0;31mKeyboardInterrupt\u001b[0m                         Traceback (most recent call last)",
            "\u001b[0;32m<ipython-input-90-37eedb6bb37a>\u001b[0m in \u001b[0;36m<module>\u001b[0;34m()\u001b[0m\n\u001b[1;32m    215\u001b[0m \u001b[0;34m\u001b[0m\u001b[0m\n\u001b[1;32m    216\u001b[0m     \u001b[0;32mfor\u001b[0m \u001b[0mii\u001b[0m \u001b[0;32min\u001b[0m \u001b[0mrange\u001b[0m\u001b[0;34m(\u001b[0m\u001b[0mnodes_r1\u001b[0m\u001b[0;34m,\u001b[0m\u001b[0mnodes_r\u001b[0m\u001b[0;34m-\u001b[0m\u001b[0;36m1\u001b[0m\u001b[0;34m)\u001b[0m\u001b[0;34m:\u001b[0m          \u001b[0;31m#c\u001b[0m\u001b[0;34m\u001b[0m\u001b[0;34m\u001b[0m\u001b[0m\n\u001b[0;32m--> 217\u001b[0;31m       \u001b[0mr_ini\u001b[0m\u001b[0;34m[\u001b[0m\u001b[0mii\u001b[0m\u001b[0;34m]\u001b[0m \u001b[0;34m=\u001b[0m \u001b[0mabs\u001b[0m\u001b[0;34m(\u001b[0m\u001b[0mCAW\u001b[0m\u001b[0;34m[\u001b[0m\u001b[0mii\u001b[0m\u001b[0;34m]\u001b[0m\u001b[0;34m*\u001b[0m\u001b[0mT_Initial\u001b[0m\u001b[0;34m[\u001b[0m\u001b[0mii\u001b[0m\u001b[0;34m-\u001b[0m\u001b[0;36m1\u001b[0m\u001b[0;34m,\u001b[0m\u001b[0mjj\u001b[0m\u001b[0;34m]\u001b[0m \u001b[0;34m+\u001b[0m \u001b[0mCAE\u001b[0m\u001b[0;34m[\u001b[0m\u001b[0mii\u001b[0m\u001b[0;34m]\u001b[0m\u001b[0;34m*\u001b[0m\u001b[0mT_Initial\u001b[0m\u001b[0;34m[\u001b[0m\u001b[0mii\u001b[0m\u001b[0;34m+\u001b[0m\u001b[0;36m1\u001b[0m\u001b[0;34m,\u001b[0m\u001b[0mjj\u001b[0m\u001b[0;34m]\u001b[0m \u001b[0;34m+\u001b[0m \u001b[0mS1\u001b[0m\u001b[0;34m[\u001b[0m\u001b[0mii\u001b[0m\u001b[0;34m]\u001b[0m\u001b[0;34m-\u001b[0m \u001b[0mCAP\u001b[0m\u001b[0;34m[\u001b[0m\u001b[0mii\u001b[0m\u001b[0;34m]\u001b[0m\u001b[0;34m*\u001b[0m\u001b[0mT_Initial\u001b[0m\u001b[0;34m[\u001b[0m\u001b[0mii\u001b[0m\u001b[0;34m,\u001b[0m\u001b[0mjj\u001b[0m\u001b[0;34m]\u001b[0m\u001b[0;34m)\u001b[0m\u001b[0;34m\u001b[0m\u001b[0;34m\u001b[0m\u001b[0m\n\u001b[0m\u001b[1;32m    218\u001b[0m \u001b[0;34m\u001b[0m\u001b[0m\n\u001b[1;32m    219\u001b[0m     \u001b[0;31m#r_ini[nodes_r-1] = abs(CAW[nodes_r-1]*T_Initial[nodes_r-2] - CAP[nodes_r-1]*T_Initial[nodes_r-1])\u001b[0m\u001b[0;34m\u001b[0m\u001b[0;34m\u001b[0m\u001b[0;34m\u001b[0m\u001b[0m\n",
            "\u001b[0;31mKeyboardInterrupt\u001b[0m: "
          ]
        }
      ]
    },
    {
      "cell_type": "code",
      "metadata": {
        "id": "WU_fEJk8I2jF",
        "colab_type": "code",
        "colab": {
          "base_uri": "https://localhost:8080/",
          "height": 34
        },
        "outputId": "1972b35b-3051-4582-98f6-5075bae06040"
      },
      "source": [
        "jj"
      ],
      "execution_count": null,
      "outputs": [
        {
          "output_type": "execute_result",
          "data": {
            "text/plain": [
              "173"
            ]
          },
          "metadata": {
            "tags": []
          },
          "execution_count": 91
        }
      ]
    },
    {
      "cell_type": "code",
      "metadata": {
        "id": "kmrtD8e7650P",
        "colab_type": "code",
        "colab": {
          "base_uri": "https://localhost:8080/",
          "height": 295
        },
        "outputId": "53d0bbad-6189-4a2c-f648-19a3a1189526"
      },
      "source": [
        "plt.plot(r_model,T_Initial[:,0], label='t= 0s (Room Temperature)')\n",
        "plt.plot(r_model,T_Initial[:,2], label='t= 2s')\n",
        "plt.plot(r_model,T_Initial[:,8], label='t= 8s')\n",
        "plt.plot(r_model,T_Initial[:,173], label='t= 173s')\n",
        "plt.xlabel('Distance along radial direction ( in m)')\n",
        "plt.ylabel('Temperature (in Deg celsius)')\n",
        "plt.title('Change in temperature with time')\n",
        "plt.legend()\n",
        "plt.show()"
      ],
      "execution_count": null,
      "outputs": [
        {
          "output_type": "display_data",
          "data": {
            "image/png": "[encoded data removed]",
            "text/plain": [
              "<Figure size 432x288 with 1 Axes>"
            ]
          },
          "metadata": {
            "tags": [],
            "needs_background": "light"
          }
        }
      ]
    },
    {
      "cell_type": "code",
      "metadata": {
        "id": "ljsaxnkG_y5I",
        "colab_type": "code",
        "colab": {
          "base_uri": "https://localhost:8080/",
          "height": 238
        },
        "outputId": "2ab7fc94-3ff8-45ff-e766-5e0dc1de8bc2"
      },
      "source": [
        "T_Initial"
      ],
      "execution_count": null,
      "outputs": [
        {
          "output_type": "execute_result",
          "data": {
            "text/plain": [
              "array([[27.        , 27.03589419, 27.03483892, ...,  0.        ,\n",
              "         0.        ,  0.        ],\n",
              "       [27.        , 27.03589419, 27.03483892, ...,  0.        ,\n",
              "         0.        ,  0.        ],\n",
              "       [27.        , 27.03590188, 27.0352235 , ...,  0.        ,\n",
              "         0.        ,  0.        ],\n",
              "       ...,\n",
              "       [27.        , 25.48893357, 25.48144101, ...,  0.        ,\n",
              "         0.        ,  0.        ],\n",
              "       [27.        , 25.23858105, 25.23384573, ...,  0.        ,\n",
              "         0.        ,  0.        ],\n",
              "       [27.        , 25.        , 25.        , ..., 25.        ,\n",
              "        25.        , 25.        ]])"
            ]
          },
          "metadata": {
            "tags": []
          },
          "execution_count": 64
        }
      ]
    }
  ]
}